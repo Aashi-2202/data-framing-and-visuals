{
 "cells": [
  {
   "cell_type": "code",
   "execution_count": 1,
   "id": "b9628a0b",
   "metadata": {},
   "outputs": [],
   "source": [
    "import pandas as pd\n",
    "import numpy as np"
   ]
  },
  {
   "cell_type": "code",
   "execution_count": 2,
   "id": "b3ee2c6b",
   "metadata": {},
   "outputs": [],
   "source": [
    "data = {\n",
    "    \"Business_ID\": [f\"B{str(i).zfill(3)}\" for i in range(1, 31)],\n",
    "    \"Business_Name\": [\n",
    "        \"Apex Foods\", \"Nova Tech\", \"Green Energy Inc\", \"Vision Retail\", \"QuickMed\",\n",
    "        \"Urban Styles\", \"Silverline Tech\", \"BioNova\", \"EcoRise\", \"FreshGrowers\",\n",
    "        \"LinkWorks\", \"WestCo Motors\", \"Zentech\", \"CleanRoute\", \"SmartBuild\",\n",
    "        \"BlueSky Finance\", \"HealThrive\", \"Digitronix\", \"Plant&Petal Co.\", \"OmniDelivery\",\n",
    "        \"SteelLine\", \"SoundBox Media\", \"DriveFusion\", \"LiftLogix\", \"VitalGlow\",\n",
    "        \"FarmNet\", \"TechWhiz\", \"NorthGrid\", \"EcoVibe\", \"CoreMeds\"\n",
    "    ],\n",
    "    \"Quarterly_Production\": [\n",
    "        450, np.nan, 980, 320, 670,\n",
    "        np.nan, 1100, 760, 310, np.nan,\n",
    "        890, 500, 630, np.nan, 720,\n",
    "        980, np.nan, 1020, 390, 650,\n",
    "        1400, np.nan, 540, 760, 820,\n",
    "        np.nan, 1130, 890, np.nan, 740\n",
    "    ],\n",
    "    \"Employees\": [\n",
    "        120, 80, np.nan, 40, 65,\n",
    "        20, 210, np.nan, 45, 60,\n",
    "        np.nan, 75, 50, 100, 110,\n",
    "        np.nan, 90, np.nan, 35, np.nan,\n",
    "        250, 60, 80, np.nan, 95,\n",
    "        85, 130, 105, 70, np.nan\n",
    "    ],\n",
    "    \"Branches\": [\n",
    "        12, 5, 9, np.nan, 7,\n",
    "        2, np.nan, 6, 4, np.nan,\n",
    "        10, np.nan, 3, 8, np.nan,\n",
    "        9, 6, np.nan, 2, 5,\n",
    "        15, np.nan, 7, 6, np.nan,\n",
    "        3, 9, np.nan, 4, 8\n",
    "    ]\n",
    "}"
   ]
  },
  {
   "cell_type": "code",
   "execution_count": 3,
   "id": "6a6f17b5",
   "metadata": {},
   "outputs": [],
   "source": [
    "df = pd.DataFrame(data)"
   ]
  },
  {
   "cell_type": "code",
   "execution_count": 4,
   "id": "fceb41f9",
   "metadata": {},
   "outputs": [],
   "source": [
    "df.to_excel(\"business_dataset.xlsx\", index=False)"
   ]
  },
  {
   "cell_type": "code",
   "execution_count": null,
   "id": "3059ac65",
   "metadata": {},
   "outputs": [],
   "source": []
  }
 ],
 "metadata": {
  "kernelspec": {
   "display_name": "Python 3 (ipykernel)",
   "language": "python",
   "name": "python3"
  },
  "language_info": {
   "codemirror_mode": {
    "name": "ipython",
    "version": 3
   },
   "file_extension": ".py",
   "mimetype": "text/x-python",
   "name": "python",
   "nbconvert_exporter": "python",
   "pygments_lexer": "ipython3",
   "version": "3.9.13"
  }
 },
 "nbformat": 4,
 "nbformat_minor": 5
}
